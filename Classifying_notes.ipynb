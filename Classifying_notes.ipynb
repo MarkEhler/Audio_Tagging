{
 "cells": [
  {
   "cell_type": "code",
   "execution_count": 2,
   "metadata": {},
   "outputs": [
    {
     "name": "stdout",
     "output_type": "stream",
     "text": [
      "Collecting pyaudio\n",
      "  Downloading https://files.pythonhosted.org/packages/ff/4f/d8e286d94e51e4c8eb18cf41caec6ac354698056894192e51f3343b6beac/PyAudio-0.2.11-cp36-cp36m-win_amd64.whl (52kB)\n",
      "Installing collected packages: pyaudio\n",
      "Successfully installed pyaudio-0.2.11\n"
     ]
    }
   ],
   "source": [
    "!pip install pyaudio"
   ]
  },
  {
   "cell_type": "code",
   "execution_count": 3,
   "metadata": {},
   "outputs": [],
   "source": [
    "import math        #import needed modules\n",
    "import pyaudio     #sudo apt-get install python-pyaudio\n",
    "\n",
    "PyAudio = pyaudio.PyAudio     #initialize pyaudio\n",
    "\n",
    "#See https://en.wikipedia.org/wiki/Bit_rate#Audio\n",
    "BITRATE = 16000     #number of frames per second/frameset.      \n",
    "\n",
    "FREQUENCY = 220     #Hz, waves per second, 261.63=C4-note.\n",
    "LENGTH = 1    #seconds to play sound\n",
    "\n",
    "if FREQUENCY > BITRATE:\n",
    "    BITRATE = FREQUENCY+100\n",
    "\n",
    "NUMBEROFFRAMES = int(BITRATE * LENGTH)\n",
    "RESTFRAMES = NUMBEROFFRAMES % BITRATE\n",
    "WAVEDATA = ''    \n",
    "\n",
    "#generating wawes\n",
    "for x in range(NUMBEROFFRAMES):\n",
    "    WAVEDATA = WAVEDATA+chr(int(math.sin(x/((BITRATE/FREQUENCY)/math.pi))*127+128))    \n",
    "\n",
    "for x in range(RESTFRAMES): \n",
    "    WAVEDATA = WAVEDATA+chr(128)\n",
    "\n",
    "p = PyAudio()\n",
    "stream = p.open(format = p.get_format_from_width(1), \n",
    "                channels = 1, \n",
    "                rate = BITRATE, \n",
    "                output = True)\n",
    "\n",
    "stream.write(WAVEDATA)\n",
    "stream.stop_stream()\n",
    "stream.close()\n",
    "p.terminate()"
   ]
  },
  {
   "cell_type": "code",
   "execution_count": null,
   "metadata": {},
   "outputs": [],
   "source": []
  }
 ],
 "metadata": {
  "kernelspec": {
   "display_name": "Python 3",
   "language": "python",
   "name": "python3"
  },
  "language_info": {
   "codemirror_mode": {
    "name": "ipython",
    "version": 3
   },
   "file_extension": ".py",
   "mimetype": "text/x-python",
   "name": "python",
   "nbconvert_exporter": "python",
   "pygments_lexer": "ipython3",
   "version": "3.6.7"
  }
 },
 "nbformat": 4,
 "nbformat_minor": 2
}
